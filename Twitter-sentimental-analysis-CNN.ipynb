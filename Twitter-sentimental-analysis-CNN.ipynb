{
 "cells": [
  {
   "cell_type": "code",
   "execution_count": 1,
   "metadata": {},
   "outputs": [],
   "source": [
    "import pandas as pd\n",
    "import numpy as np\n",
    "\n",
    "import gensim\n",
    "from gensim.utils import simple_preprocess\n",
    "from gensim.parsing.porter import PorterStemmer\n",
    "from gensim.models import Word2Vec\n",
    "\n",
    "import torch\n",
    "import torch.nn as nn\n",
    "import torch.nn.functional as F\n",
    "import torch.optim as optim\n",
    "\n",
    "from sklearn.model_selection import train_test_split\n",
    "from sklearn.metrics import classification_report,confusion_matrix\n",
    "\n",
    "import matplotlib.pyplot as plt\n",
    "import seaborn as sns"
   ]
  },
  {
   "cell_type": "code",
   "execution_count": 2,
   "metadata": {},
   "outputs": [
    {
     "data": {
      "text/html": [
       "<div>\n",
       "<style scoped>\n",
       "    .dataframe tbody tr th:only-of-type {\n",
       "        vertical-align: middle;\n",
       "    }\n",
       "\n",
       "    .dataframe tbody tr th {\n",
       "        vertical-align: top;\n",
       "    }\n",
       "\n",
       "    .dataframe thead th {\n",
       "        text-align: right;\n",
       "    }\n",
       "</style>\n",
       "<table border=\"1\" class=\"dataframe\">\n",
       "  <thead>\n",
       "    <tr style=\"text-align: right;\">\n",
       "      <th></th>\n",
       "      <th>post_text</th>\n",
       "      <th>label</th>\n",
       "      <th>split</th>\n",
       "    </tr>\n",
       "  </thead>\n",
       "  <tbody>\n",
       "    <tr>\n",
       "      <th>0</th>\n",
       "      <td>try to have as good a life as you can under th...</td>\n",
       "      <td>0</td>\n",
       "      <td>train</td>\n",
       "    </tr>\n",
       "    <tr>\n",
       "      <th>1</th>\n",
       "      <td>realdonaldtrump full of yourself ? ? remember...</td>\n",
       "      <td>0</td>\n",
       "      <td>train</td>\n",
       "    </tr>\n",
       "    <tr>\n",
       "      <th>2</th>\n",
       "      <td>politicomag o man woman if we had mr . truman...</td>\n",
       "      <td>0</td>\n",
       "      <td>train</td>\n",
       "    </tr>\n",
       "    <tr>\n",
       "      <th>3</th>\n",
       "      <td>two and a half hours late to work</td>\n",
       "      <td>0</td>\n",
       "      <td>train</td>\n",
       "    </tr>\n",
       "    <tr>\n",
       "      <th>4</th>\n",
       "      <td>michael tarallo is now following me on twitter...</td>\n",
       "      <td>0</td>\n",
       "      <td>train</td>\n",
       "    </tr>\n",
       "  </tbody>\n",
       "</table>\n",
       "</div>"
      ],
      "text/plain": [
       "                                           post_text  label  split\n",
       "0  try to have as good a life as you can under th...      0  train\n",
       "1   realdonaldtrump full of yourself ? ? remember...      0  train\n",
       "2   politicomag o man woman if we had mr . truman...      0  train\n",
       "3                 two and a half hours late to work       0  train\n",
       "4  michael tarallo is now following me on twitter...      0  train"
      ]
     },
     "execution_count": 2,
     "metadata": {},
     "output_type": "execute_result"
    }
   ],
   "source": [
    "train_df = pd.read_csv(\"./twitter_new.csv\")\n",
    "train_df.head()"
   ]
  },
  {
   "cell_type": "code",
   "execution_count": 3,
   "metadata": {},
   "outputs": [
    {
     "data": {
      "text/plain": [
       "<matplotlib.axes._subplots.AxesSubplot at 0x7f9252174250>"
      ]
     },
     "execution_count": 3,
     "metadata": {},
     "output_type": "execute_result"
    },
    {
     "data": {
      "image/png": "[encoded data removed]",
      "text/plain": [
       "<Figure size 432x288 with 1 Axes>"
      ]
     },
     "metadata": {
      "needs_background": "light"
     },
     "output_type": "display_data"
    }
   ],
   "source": [
    "sns.countplot(train_df['label'])"
   ]
  },
  {
   "cell_type": "code",
   "execution_count": 4,
   "metadata": {},
   "outputs": [],
   "source": [
    "train_df['tokenized_text'] = [simple_preprocess(line, deacc=True) for line in train_df['post_text']]"
   ]
  },
  {
   "cell_type": "code",
   "execution_count": 5,
   "metadata": {},
   "outputs": [
    {
     "data": {
      "text/html": [
       "<div>\n",
       "<style scoped>\n",
       "    .dataframe tbody tr th:only-of-type {\n",
       "        vertical-align: middle;\n",
       "    }\n",
       "\n",
       "    .dataframe tbody tr th {\n",
       "        vertical-align: top;\n",
       "    }\n",
       "\n",
       "    .dataframe thead th {\n",
       "        text-align: right;\n",
       "    }\n",
       "</style>\n",
       "<table border=\"1\" class=\"dataframe\">\n",
       "  <thead>\n",
       "    <tr style=\"text-align: right;\">\n",
       "      <th></th>\n",
       "      <th>post_text</th>\n",
       "      <th>label</th>\n",
       "      <th>split</th>\n",
       "      <th>tokenized_text</th>\n",
       "      <th>stemmed_tokens</th>\n",
       "    </tr>\n",
       "  </thead>\n",
       "  <tbody>\n",
       "    <tr>\n",
       "      <th>0</th>\n",
       "      <td>try to have as good a life as you can under th...</td>\n",
       "      <td>0</td>\n",
       "      <td>train</td>\n",
       "      <td>[try, to, have, as, good, life, as, you, can, ...</td>\n",
       "      <td>[try, to, have, as, good, life, as, you, can, ...</td>\n",
       "    </tr>\n",
       "    <tr>\n",
       "      <th>1</th>\n",
       "      <td>realdonaldtrump full of yourself ? ? remember...</td>\n",
       "      <td>0</td>\n",
       "      <td>train</td>\n",
       "      <td>[realdonaldtrump, full, of, yourself, remember...</td>\n",
       "      <td>[realdonaldtrump, full, of, yourself, rememb, ...</td>\n",
       "    </tr>\n",
       "    <tr>\n",
       "      <th>2</th>\n",
       "      <td>politicomag o man woman if we had mr . truman...</td>\n",
       "      <td>0</td>\n",
       "      <td>train</td>\n",
       "      <td>[politicomag, man, woman, if, we, had, mr, tru...</td>\n",
       "      <td>[politicomag, man, woman, if, we, had, mr, tru...</td>\n",
       "    </tr>\n",
       "    <tr>\n",
       "      <th>3</th>\n",
       "      <td>two and a half hours late to work</td>\n",
       "      <td>0</td>\n",
       "      <td>train</td>\n",
       "      <td>[two, and, half, hours, late, to, work]</td>\n",
       "      <td>[two, and, half, hour, late, to, work]</td>\n",
       "    </tr>\n",
       "    <tr>\n",
       "      <th>4</th>\n",
       "      <td>michael tarallo is now following me on twitter...</td>\n",
       "      <td>0</td>\n",
       "      <td>train</td>\n",
       "      <td>[michael, tarallo, is, now, following, me, on,...</td>\n",
       "      <td>[michael, tarallo, is, now, follow, me, on, tw...</td>\n",
       "    </tr>\n",
       "    <tr>\n",
       "      <th>...</th>\n",
       "      <td>...</td>\n",
       "      <td>...</td>\n",
       "      <td>...</td>\n",
       "      <td>...</td>\n",
       "      <td>...</td>\n",
       "    </tr>\n",
       "    <tr>\n",
       "      <th>19995</th>\n",
       "      <td>i m glad i was able to defend myself , said a...</td>\n",
       "      <td>1</td>\n",
       "      <td>test</td>\n",
       "      <td>[glad, was, able, to, defend, myself, said, yr...</td>\n",
       "      <td>[glad, wa, abl, to, defend, myself, said, yr, ...</td>\n",
       "    </tr>\n",
       "    <tr>\n",
       "      <th>19996</th>\n",
       "      <td>thinking too much to sleep man this always hap...</td>\n",
       "      <td>1</td>\n",
       "      <td>test</td>\n",
       "      <td>[thinking, too, much, to, sleep, man, this, al...</td>\n",
       "      <td>[think, too, much, to, sleep, man, thi, alwai,...</td>\n",
       "    </tr>\n",
       "    <tr>\n",
       "      <th>19997</th>\n",
       "      <td>rt samstrike thanks for all the love this year...</td>\n",
       "      <td>1</td>\n",
       "      <td>test</td>\n",
       "      <td>[rt, samstrike, thanks, for, all, the, love, t...</td>\n",
       "      <td>[rt, samstrik, thank, for, all, the, love, thi...</td>\n",
       "    </tr>\n",
       "    <tr>\n",
       "      <th>19998</th>\n",
       "      <td>aartorias unless that s not what you meant</td>\n",
       "      <td>1</td>\n",
       "      <td>test</td>\n",
       "      <td>[aartorias, unless, that, not, what, you, meant]</td>\n",
       "      <td>[aartoria, unless, that, not, what, you, meant]</td>\n",
       "    </tr>\n",
       "    <tr>\n",
       "      <th>19999</th>\n",
       "      <td>pissed off seems to be my new default . maybe...</td>\n",
       "      <td>1</td>\n",
       "      <td>test</td>\n",
       "      <td>[pissed, off, seems, to, be, my, new, default,...</td>\n",
       "      <td>[piss, off, seem, to, be, my, new, default, ma...</td>\n",
       "    </tr>\n",
       "  </tbody>\n",
       "</table>\n",
       "<p>20000 rows × 5 columns</p>\n",
       "</div>"
      ],
      "text/plain": [
       "                                               post_text  label  split  \\\n",
       "0      try to have as good a life as you can under th...      0  train   \n",
       "1       realdonaldtrump full of yourself ? ? remember...      0  train   \n",
       "2       politicomag o man woman if we had mr . truman...      0  train   \n",
       "3                     two and a half hours late to work       0  train   \n",
       "4      michael tarallo is now following me on twitter...      0  train   \n",
       "...                                                  ...    ...    ...   \n",
       "19995   i m glad i was able to defend myself , said a...      1   test   \n",
       "19996  thinking too much to sleep man this always hap...      1   test   \n",
       "19997  rt samstrike thanks for all the love this year...      1   test   \n",
       "19998         aartorias unless that s not what you meant      1   test   \n",
       "19999   pissed off seems to be my new default . maybe...      1   test   \n",
       "\n",
       "                                          tokenized_text  \\\n",
       "0      [try, to, have, as, good, life, as, you, can, ...   \n",
       "1      [realdonaldtrump, full, of, yourself, remember...   \n",
       "2      [politicomag, man, woman, if, we, had, mr, tru...   \n",
       "3                [two, and, half, hours, late, to, work]   \n",
       "4      [michael, tarallo, is, now, following, me, on,...   \n",
       "...                                                  ...   \n",
       "19995  [glad, was, able, to, defend, myself, said, yr...   \n",
       "19996  [thinking, too, much, to, sleep, man, this, al...   \n",
       "19997  [rt, samstrike, thanks, for, all, the, love, t...   \n",
       "19998   [aartorias, unless, that, not, what, you, meant]   \n",
       "19999  [pissed, off, seems, to, be, my, new, default,...   \n",
       "\n",
       "                                          stemmed_tokens  \n",
       "0      [try, to, have, as, good, life, as, you, can, ...  \n",
       "1      [realdonaldtrump, full, of, yourself, rememb, ...  \n",
       "2      [politicomag, man, woman, if, we, had, mr, tru...  \n",
       "3                 [two, and, half, hour, late, to, work]  \n",
       "4      [michael, tarallo, is, now, follow, me, on, tw...  \n",
       "...                                                  ...  \n",
       "19995  [glad, wa, abl, to, defend, myself, said, yr, ...  \n",
       "19996  [think, too, much, to, sleep, man, thi, alwai,...  \n",
       "19997  [rt, samstrik, thank, for, all, the, love, thi...  \n",
       "19998    [aartoria, unless, that, not, what, you, meant]  \n",
       "19999  [piss, off, seem, to, be, my, new, default, ma...  \n",
       "\n",
       "[20000 rows x 5 columns]"
      ]
     },
     "execution_count": 5,
     "metadata": {},
     "output_type": "execute_result"
    }
   ],
   "source": [
    "porter_stemmer = PorterStemmer()\n",
    "train_df['stemmed_tokens'] = [[porter_stemmer.stem(word) for word in tokens] for tokens in train_df['tokenized_text']]\n",
    "train_df"
   ]
  },
  {
   "cell_type": "code",
   "execution_count": 6,
   "metadata": {},
   "outputs": [],
   "source": [
    "size = 500\n",
    "window = 3\n",
    "min_count = 1\n",
    "workers = 3\n",
    "# 0 for CBOW, 1 for skip-gram\n",
    "sg = 0\n",
    "OUTPUT_FOLDER = '/Users/sylnne/Documents/GitHub/twitter-sentiment-analysis/'\n",
    "# Function to train word2vec model\n",
    "def make_word2vec_model(train_df, padding, sg, min_count, size, workers, window):\n",
    "    if  padding:\n",
    "        #print(len(train))\n",
    "        temp_df = pd.Series(train_df['stemmed_tokens']).values\n",
    "        temp_df = list(temp_df)\n",
    "        temp_df.append(['pad'])\n",
    "        #print(str(size))\n",
    "        word2vec_file = OUTPUT_FOLDER + '2ata' + '_PAD.model'\n",
    "    w2v_model = Word2Vec(temp_df, min_count = min_count, size = size, workers = workers, window = window, sg = sg)\n",
    "\n",
    "    w2v_model.save(word2vec_file)\n",
    "    return w2v_model, word2vec_file\n",
    "\n",
    "# Train Word2vec model\n",
    "w2vmodel, word2vec_file = make_word2vec_model(train_df, padding=True, sg=sg, min_count=min_count, size=size, workers=workers, window=window)"
   ]
  },
  {
   "cell_type": "code",
   "execution_count": 7,
   "metadata": {},
   "outputs": [
    {
     "name": "stdout",
     "output_type": "stream",
     "text": [
      "4269\n"
     ]
    }
   ],
   "source": [
    "max_sen_len = train_df.stemmed_tokens.map(len).max()\n",
    "\n",
    "padding_idx = w2vmodel.wv.vocab['pad'].index\n",
    "print(padding_idx)\n",
    "def make_word2vec_vector_cnn(sentence):\n",
    "    padded_X = [padding_idx for i in range(max_sen_len)]\n",
    "    i = 0\n",
    "    for word in sentence:\n",
    "        if word not in w2vmodel.wv.vocab:\n",
    "            padded_X[i] = 0\n",
    "        else:\n",
    "            padded_X[i] = w2vmodel.wv.vocab[word].index\n",
    "        i += 1\n",
    "    return torch.tensor(padded_X, dtype=torch.long, device=device).view(1, -1)"
   ]
  },
  {
   "cell_type": "code",
   "execution_count": 8,
   "metadata": {},
   "outputs": [
    {
     "data": {
      "text/plain": [
       "36"
      ]
     },
     "execution_count": 8,
     "metadata": {},
     "output_type": "execute_result"
    }
   ],
   "source": [
    "max_sen_len"
   ]
  },
  {
   "cell_type": "code",
   "execution_count": 9,
   "metadata": {},
   "outputs": [
    {
     "data": {
      "text/plain": [
       "4269"
      ]
     },
     "execution_count": 9,
     "metadata": {},
     "output_type": "execute_result"
    }
   ],
   "source": [
    "padding_idx"
   ]
  },
  {
   "cell_type": "code",
   "execution_count": 10,
   "metadata": {},
   "outputs": [
    {
     "name": "stdout",
     "output_type": "stream",
     "text": [
      "Value counts for Train sentiments\n",
      "0    7005\n",
      "1    6995\n",
      "Name: label, dtype: int64\n",
      "Value counts for Test sentiments\n",
      "1    3005\n",
      "0    2995\n",
      "Name: label, dtype: int64\n",
      "<class 'pandas.core.frame.DataFrame'>\n",
      "<class 'pandas.core.series.Series'>\n",
      "   index                                     stemmed_tokens\n",
      "0  16831  [larrydocu, my, entir, year, made, with, harri...\n",
      "1  16015  [how, children, inherit, our, anxieti, http, c...\n",
      "2  15380  [mittengirl, xo, veganrevoiut, someth, alreadi...\n",
      "3    385  [adclaidekan, god, there, so, mani, good, on, ...\n",
      "4  11825  [hollist, sk, uvedomil, som, si, swan, ceram, ...\n"
     ]
    }
   ],
   "source": [
    "def split_train_test(train_df, test_size=0.3, shuffle_state=True):\n",
    "    X_train, X_test, Y_train, Y_test = train_test_split(train_df[['stemmed_tokens']], \n",
    "                                                        train_df['label'], \n",
    "                                                        shuffle=shuffle_state,\n",
    "                                                        test_size=test_size, \n",
    "                                                        random_state=15)\n",
    "    print(\"Value counts for Train sentiments\")\n",
    "    print(Y_train.value_counts())\n",
    "    print(\"Value counts for Test sentiments\")\n",
    "    print(Y_test.value_counts())\n",
    "    print(type(X_train))\n",
    "    print(type(Y_train))\n",
    "    X_train = X_train.reset_index()\n",
    "    X_test = X_test.reset_index()\n",
    "    Y_train = Y_train.to_frame()\n",
    "    Y_train = Y_train.reset_index()\n",
    "    Y_test = Y_test.to_frame()\n",
    "    Y_test = Y_test.reset_index()\n",
    "    print(X_train.head())\n",
    "    return X_train, X_test, Y_train, Y_test\n",
    "\n",
    "# Call the train_test_split\n",
    "X_train, X_test, Y_train, Y_test = split_train_test(train_df)"
   ]
  },
  {
   "cell_type": "code",
   "execution_count": 11,
   "metadata": {},
   "outputs": [
    {
     "data": {
      "text/plain": [
       "device(type='cpu')"
      ]
     },
     "execution_count": 11,
     "metadata": {},
     "output_type": "execute_result"
    }
   ],
   "source": [
    "device = torch.device(\"cuda\" if torch.cuda.is_available() else \"cpu\")\n",
    "device"
   ]
  },
  {
   "cell_type": "code",
   "execution_count": 12,
   "metadata": {},
   "outputs": [],
   "source": [
    "EMBEDDING_SIZE = 500\n",
    "NUM_FILTERS = 10\n",
    "\n",
    "#torch.nn.Conv2d(in_channels: int, out_channels: int, kernel_size: Union[T, Tuple[T, T]], \n",
    "#stride: Union[T, Tuple[T, T]] = 1, padding: Union[T, Tuple[T, T]] = 0, \n",
    "#dilation: Union[T, Tuple[T, T]] = 1, groups: int = 1, bias: bool = True, padding_mode: str = 'zeros')\n",
    "\n",
    "class CnnTextClassifier(nn.Module):\n",
    "    def __init__(self, vocab_size, num_classes, window_sizes=(1,2,3,5)):\n",
    "        super(CnnTextClassifier, self).__init__()\n",
    "        w2vmodel = gensim.models.KeyedVectors.load(OUTPUT_FOLDER + '2ata_PAD.model')\n",
    "        weights = w2vmodel.wv\n",
    "        # With pretrained embeddings\n",
    "        self.embedding = nn.Embedding.from_pretrained(torch.FloatTensor(weights.vectors), padding_idx=w2vmodel.wv.vocab['pad'].index)\n",
    "        \n",
    "        # like a python list, it was designed to store any desired number of nn.Module\n",
    "        self.convs = nn.ModuleList([\n",
    "                                   nn.Conv2d(1, NUM_FILTERS, [window_size, EMBEDDING_SIZE], padding=(window_size - 1, 0))\n",
    "                                   for window_size in window_sizes\n",
    "        ])\n",
    "    \n",
    "        self.fc = nn.Linear(NUM_FILTERS * len(window_sizes), num_classes)\n",
    "\n",
    "    def forward(self, x):\n",
    "        x = self.embedding(x) # [B, T, E]\n",
    "\n",
    "        # Apply a convolution + max_pool layer for each window size\n",
    "        x = torch.unsqueeze(x, 1)\n",
    "        xs = []\n",
    "        for conv in self.convs:\n",
    "            x2 = torch.tanh(conv(x))\n",
    "            x2 = torch.squeeze(x2, -1)\n",
    "            x2 = F.max_pool1d(x2, x2.size(2))\n",
    "            xs.append(x2)\n",
    "        x = torch.cat(xs, 2)\n",
    "\n",
    "        # FC\n",
    "        x = x.view(x.size(0), -1)\n",
    "        logits = self.fc(x)\n",
    "\n",
    "        probs = F.softmax(logits, dim = 1)\n",
    "\n",
    "        return probs"
   ]
  },
  {
   "cell_type": "code",
   "execution_count": 13,
   "metadata": {},
   "outputs": [],
   "source": [
    "def make_target(label):\n",
    "    if label == 0:\n",
    "        return torch.tensor([0], dtype=torch.long, device=device)\n",
    "    elif label == 1:\n",
    "        return torch.tensor([1], dtype=torch.long, device=device)"
   ]
  },
  {
   "cell_type": "code",
   "execution_count": 14,
   "metadata": {},
   "outputs": [
    {
     "name": "stdout",
     "output_type": "stream",
     "text": [
      "28471\n"
     ]
    }
   ],
   "source": [
    "NUM_CLASSES = 2\n",
    "VOCAB_SIZE = len(w2vmodel.wv.vocab)\n",
    "print(VOCAB_SIZE)\n",
    "cnn_model = CnnTextClassifier(vocab_size=VOCAB_SIZE, num_classes=NUM_CLASSES)\n",
    "cnn_model.to(device)\n",
    "loss_function = nn.CrossEntropyLoss()\n",
    "optimizer = optim.Adam(cnn_model.parameters(), lr=0.0001)\n",
    "num_epochs = 10"
   ]
  },
  {
   "cell_type": "code",
   "execution_count": 15,
   "metadata": {},
   "outputs": [
    {
     "name": "stdout",
     "output_type": "stream",
     "text": [
      "Epoch1\n",
      "train_loss : 0.6714746914016348\n",
      "Epoch ran :1\n",
      "Epoch2\n",
      "train_loss : 0.6492676782906055\n",
      "Epoch ran :2\n",
      "Epoch3\n",
      "train_loss : 0.6411803438982794\n",
      "Epoch ran :3\n",
      "Epoch4\n",
      "train_loss : 0.6359310652485916\n",
      "Epoch ran :4\n",
      "Epoch5\n",
      "train_loss : 0.6330287629578795\n",
      "Epoch ran :5\n",
      "Epoch6\n",
      "train_loss : 0.6303169460552079\n",
      "Epoch ran :6\n",
      "Epoch7\n",
      "train_loss : 0.628464110574552\n",
      "Epoch ran :7\n",
      "Epoch8\n",
      "train_loss : 0.6259397853889636\n",
      "Epoch ran :8\n",
      "Epoch9\n",
      "train_loss : 0.6245042486701693\n",
      "Epoch ran :9\n",
      "Epoch10\n",
      "train_loss : 0.6217808362117836\n",
      "Epoch ran :10\n",
      "Input vector\n",
      "Probs\n",
      "tensor([[0.4306, 0.5694]], grad_fn=<SoftmaxBackward0>)\n",
      "1\n"
     ]
    }
   ],
   "source": [
    "# Open the file for writing loss\n",
    "loss_file_name = OUTPUT_FOLDER + '1cnn_class_big_loss_with_padding.csv'\n",
    "f = open(loss_file_name,'w')\n",
    "f.write('iter, loss')\n",
    "f.write('\\n')\n",
    "losses = []\n",
    "\n",
    "cnn_model.train()\n",
    "for epoch in range(num_epochs):\n",
    "    print(\"Epoch\" + str(epoch + 1))\n",
    "    train_loss = 0\n",
    "\n",
    "    for index, row in X_train.iterrows():\n",
    "        # Clearing the accumulated gradients\n",
    "        cnn_model.zero_grad()\n",
    "\n",
    "        # Make the bag of words vector for stemmed tokens \n",
    "        bow_vec = make_word2vec_vector_cnn(row['stemmed_tokens'])\n",
    "       \n",
    "        # Forward pass to get output\n",
    "        probs = cnn_model(bow_vec)\n",
    "\n",
    "        # Get the target label\n",
    "        #print(Y_train['label'][index])\n",
    "        target = make_target(Y_train['label'][index])\n",
    "\n",
    "        # Calculate Loss: softmax --> cross entropy loss\n",
    "        loss = loss_function(probs, target)\n",
    "        train_loss += loss.item()\n",
    "        \n",
    "\n",
    "        # Getting gradients w.r.t. parameters\n",
    "        loss.backward()\n",
    "\n",
    "        # Updating parameters\n",
    "        optimizer.step()\n",
    "\n",
    "    print(f'train_loss : {train_loss / len(X_train)}')\n",
    "    print(\"Epoch ran :\"+ str(epoch+1))\n",
    "    \n",
    "    f.write(str((epoch+1)) + \",\" + str(train_loss / len(X_train)))\n",
    "    f.write('\\n')\n",
    "    train_loss = 0\n",
    "\n",
    "torch.save(cnn_model, OUTPUT_FOLDER + 'cnn_big_model_500_with_padding.pth')\n",
    "\n",
    "f.close()\n",
    "print(\"Input vector\")\n",
    "print(\"Probs\")\n",
    "print(probs)\n",
    "print(torch.argmax(probs, dim=1).cpu().numpy()[0])"
   ]
  },
  {
   "cell_type": "code",
   "execution_count": 16,
   "metadata": {},
   "outputs": [
    {
     "name": "stdout",
     "output_type": "stream",
     "text": [
      "Index(['iter', ' loss'], dtype='object')\n",
      "[[2281  714]\n",
      " [1449 1556]]\n",
      "              precision    recall  f1-score   support\n",
      "\n",
      "           0       0.61      0.76      0.68      2995\n",
      "           1       0.69      0.52      0.59      3005\n",
      "\n",
      "    accuracy                           0.64      6000\n",
      "   macro avg       0.65      0.64      0.63      6000\n",
      "weighted avg       0.65      0.64      0.63      6000\n",
      "\n",
      "Index(['iter', ' loss'], dtype='object')\n"
     ]
    },
    {
     "data": {
      "image/png": "[encoded data removed]",
      "text/plain": [
       "<Figure size 432x288 with 1 Axes>"
      ]
     },
     "metadata": {
      "needs_background": "light"
     },
     "output_type": "display_data"
    }
   ],
   "source": [
    "bow_cnn_predictions = []\n",
    "original_lables_cnn_bow = []\n",
    "cnn_model.eval()\n",
    "loss_df = pd.read_csv(OUTPUT_FOLDER + '1cnn_class_big_loss_with_padding.csv')\n",
    "print(loss_df.columns)\n",
    "# loss_df.plot('loss')\n",
    "\n",
    "y_pred_list = []\n",
    "y_true_list = []\n",
    "\n",
    "with torch.no_grad():\n",
    "    for index, row in X_test.iterrows():\n",
    "        #print(row['stemmed_tokens'])\n",
    "        bow_vec = make_word2vec_vector_cnn(row['stemmed_tokens'])\n",
    "        #print(bow_vec)\n",
    "        probs = cnn_model(bow_vec)\n",
    "        #print(probs.data)\n",
    "        _, predicted = torch.max(probs.data,  1)\n",
    "        \n",
    "        bow_cnn_predictions.append(predicted.cpu().numpy()[0])\n",
    "        original_lables_cnn_bow.append(make_target(Y_test['label'][index]).cpu().numpy()[0])\n",
    "\n",
    "print(confusion_matrix(original_lables_cnn_bow, bow_cnn_predictions))\n",
    "#print(original_lables_cnn_bow)\n",
    "print(classification_report(original_lables_cnn_bow,bow_cnn_predictions))\n",
    "loss_file_name = OUTPUT_FOLDER + '1cnn_class_big_loss_with_padding.csv'\n",
    "loss_df = pd.read_csv(loss_file_name)\n",
    "print(loss_df.columns)\n",
    "plt_500_padding_30_epochs = loss_df[' loss'].plot()\n",
    "fig = plt_500_padding_30_epochs.get_figure()\n",
    "fig.savefig(OUTPUT_FOLDER + '1loss_plt_500_padding_30_epochs.pdf')"
   ]
  },
  {
   "cell_type": "code",
   "execution_count": null,
   "metadata": {},
   "outputs": [],
   "source": []
  }
 ],
 "metadata": {
  "kernelspec": {
   "display_name": "Python 3",
   "language": "python",
   "name": "python3"
  },
  "language_info": {
   "codemirror_mode": {
    "name": "ipython",
    "version": 3
   },
   "file_extension": ".py",
   "mimetype": "text/x-python",
   "name": "python",
   "nbconvert_exporter": "python",
   "pygments_lexer": "ipython3",
   "version": "3.8.3"
  }
 },
 "nbformat": 4,
 "nbformat_minor": 4
}
